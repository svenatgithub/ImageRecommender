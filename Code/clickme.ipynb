{
 "cells": [
  {
   "cell_type": "markdown",
   "metadata": {},
   "source": [
    "# Image Recommender Project\n",
    "#### Von Anna Popova und Sven Ochmann\n",
    "\n",
    "\n",
    "\n",
    "!! This Notebook is for using existing pkl and db files, in order to Generate the Embeding and Database for your own dataset use the config.py and main.py !!\n",
    "\n",
    "\n",
    "\n"
   ]
  },
  {
   "cell_type": "code",
   "execution_count": null,
   "metadata": {},
   "outputs": [],
   "source": [
    "# Insert Pre trained model or create new one\n",
    "path_to_model = 'collected_data/knn_model.pkl'\n",
    "with open(path_to_model, 'rb') as file:\n",
    "    loaded_knn_model = pickle.load(file)"
   ]
  },
  {
   "cell_type": "code",
   "execution_count": null,
   "metadata": {},
   "outputs": [],
   "source": [
    "#Wähle Modus\n",
    "# \"Image\" for the Recomender and \"Finder\" for the Similarity Finder(WIP).\n",
    "Modus = \"Image\""
   ]
  },
  {
   "cell_type": "code",
   "execution_count": null,
   "metadata": {},
   "outputs": [],
   "source": [
    "# Import Image to find Similar Picture\n",
    "\n",
    "path_to_image = \"image path\"\n",
    "\n",
    "\n",
    "number_of_images_to_return = 5 # Default 5\n",
    "\n"
   ]
  },
  {
   "cell_type": "code",
   "execution_count": null,
   "metadata": {},
   "outputs": [],
   "source": [
    "#Create Image specific embedings\n",
    "from process_images import create_embedings\n",
    "image_data = creat_embedings(path_to_image)"
   ]
  },
  {
   "cell_type": "code",
   "execution_count": null,
   "metadata": {},
   "outputs": [],
   "source": [
    "# Get 5 Similar Picrures Back\n",
    "from create_plot_knn import find_top_5_similar_images\n",
    "result_pictures = find_top_5_similar_images(image_data,loaded_knn_model, number_of_images_to_return)"
   ]
  },
  {
   "cell_type": "code",
   "execution_count": null,
   "metadata": {},
   "outputs": [],
   "source": [
    "# Plot the Pictures\n",
    "from create_plot_knn import plot_top_5_images\n",
    "plot_top_5_images(result_pictures)"
   ]
  }
 ],
 "metadata": {
  "language_info": {
   "name": "python"
  }
 },
 "nbformat": 4,
 "nbformat_minor": 2
}
